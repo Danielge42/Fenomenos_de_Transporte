{
 "cells": [
  {
   "cell_type": "code",
   "execution_count": 1,
   "metadata": {},
   "outputs": [],
   "source": [
    "import numpy as np\n",
    "import matplotlib.pyplot as plt"
   ]
  },
  {
   "cell_type": "code",
   "execution_count": 2,
   "metadata": {},
   "outputs": [],
   "source": [
    "n = 10\n",
    "\n",
    "w1 = np.random.rand(n,n)\n",
    "b1 = np.random.rand(n,1)"
   ]
  },
  {
   "cell_type": "code",
   "execution_count": 3,
   "metadata": {},
   "outputs": [],
   "source": [
    "t = np.linspace(0,1,n).reshape(-1,1)\n"
   ]
  },
  {
   "cell_type": "code",
   "execution_count": 4,
   "metadata": {},
   "outputs": [],
   "source": [
    "def modelo(x):\n",
    "    return w1@x + b1"
   ]
  },
  {
   "cell_type": "code",
   "execution_count": 5,
   "metadata": {},
   "outputs": [
    {
     "data": {
      "text/plain": [
       "array([[2.55754175],\n",
       "       [3.46810671],\n",
       "       [3.0567904 ],\n",
       "       [2.24344271],\n",
       "       [4.1759201 ],\n",
       "       [1.71043261],\n",
       "       [3.43420835],\n",
       "       [3.24414578],\n",
       "       [3.30603882],\n",
       "       [2.67730589]])"
      ]
     },
     "execution_count": 5,
     "metadata": {},
     "output_type": "execute_result"
    }
   ],
   "source": [
    "modelo(t)"
   ]
  },
  {
   "cell_type": "code",
   "execution_count": 6,
   "metadata": {},
   "outputs": [],
   "source": [
    "def real_function(x):\n",
    "    return 3*x + 2"
   ]
  },
  {
   "cell_type": "code",
   "execution_count": 7,
   "metadata": {},
   "outputs": [
    {
     "data": {
      "text/plain": [
       "array([[2.        ],\n",
       "       [2.33333333],\n",
       "       [2.66666667],\n",
       "       [3.        ],\n",
       "       [3.33333333],\n",
       "       [3.66666667],\n",
       "       [4.        ],\n",
       "       [4.33333333],\n",
       "       [4.66666667],\n",
       "       [5.        ]])"
      ]
     },
     "execution_count": 7,
     "metadata": {},
     "output_type": "execute_result"
    }
   ],
   "source": [
    "real_function(t)"
   ]
  },
  {
   "cell_type": "code",
   "execution_count": 8,
   "metadata": {},
   "outputs": [],
   "source": [
    "def loss(x):\n",
    "    return np.mean(np.square(modelo(x)-real_function(x)))"
   ]
  },
  {
   "cell_type": "code",
   "execution_count": 9,
   "metadata": {},
   "outputs": [],
   "source": [
    "def loss_derivate(x):\n",
    "    return 2/n *(modelo(x)- real_function(x))"
   ]
  },
  {
   "cell_type": "code",
   "execution_count": 10,
   "metadata": {},
   "outputs": [
    {
     "data": {
      "text/plain": [
       "array([[ 0.11150835],\n",
       "       [ 0.22695468],\n",
       "       [ 0.07802475],\n",
       "       [-0.15131146],\n",
       "       [ 0.16851735],\n",
       "       [-0.39124681],\n",
       "       [-0.11315833],\n",
       "       [-0.21783751],\n",
       "       [-0.27212557],\n",
       "       [-0.46453882]])"
      ]
     },
     "execution_count": 10,
     "metadata": {},
     "output_type": "execute_result"
    }
   ],
   "source": [
    "loss_derivate(t)"
   ]
  },
  {
   "cell_type": "code",
   "execution_count": 11,
   "metadata": {},
   "outputs": [],
   "source": [
    "def gradiente(x,w1,b1):\n",
    "    \n",
    "    dw1 = loss_derivate(x) @ x.T\n",
    "    db1 = loss_derivate(x)\n",
    "    return dw1, db1"
   ]
  },
  {
   "cell_type": "code",
   "execution_count": 12,
   "metadata": {},
   "outputs": [
    {
     "data": {
      "text/plain": [
       "array([ 7.81142857, 10.87131451, 14.08996795,  9.13954898, 13.09973593,\n",
       "        5.68980984, 13.24489191, 11.94801632, 14.66977666, 10.30087684])"
      ]
     },
     "execution_count": 12,
     "metadata": {},
     "output_type": "execute_result"
    }
   ],
   "source": [
    "x = np.linspace(0,10,n)\n",
    "gradiente(x,w1,b1)[0]"
   ]
  },
  {
   "cell_type": "code",
   "execution_count": 13,
   "metadata": {},
   "outputs": [
    {
     "name": "stdout",
     "output_type": "stream",
     "text": [
      "Epoch:  0  Loss:  153.9328195222063\n",
      "Epoch:  50  Loss:  0.10208984959131358\n",
      "Epoch:  100  Loss:  6.770705182901647e-05\n",
      "Epoch:  150  Loss:  4.4904022150584574e-08\n",
      "Epoch:  200  Loss:  2.978081530526052e-11\n",
      "Epoch:  250  Loss:  1.9750947038105185e-14\n",
      "Epoch:  300  Loss:  1.3099033178727652e-17\n",
      "Epoch:  350  Loss:  8.687440901808646e-21\n",
      "Epoch:  400  Loss:  5.76141990441615e-24\n",
      "Epoch:  450  Loss:  3.9051770252060966e-27\n",
      "Epoch:  500  Loss:  3.723423472643176e-29\n",
      "Epoch:  550  Loss:  1.5619445923376034e-29\n",
      "Epoch:  600  Loss:  9.624103043696343e-30\n",
      "Epoch:  650  Loss:  8.283039504820624e-30\n",
      "Epoch:  700  Loss:  8.283039504820624e-30\n",
      "Epoch:  750  Loss:  8.283039504820624e-30\n",
      "Epoch:  800  Loss:  8.283039504820624e-30\n",
      "Epoch:  850  Loss:  8.283039504820624e-30\n",
      "Epoch:  900  Loss:  8.283039504820624e-30\n",
      "Epoch:  950  Loss:  8.283039504820624e-30\n",
      "Epoch:  1000  Loss:  8.283039504820624e-30\n",
      "Epoch:  1050  Loss:  8.283039504820624e-30\n",
      "Epoch:  1100  Loss:  8.283039504820624e-30\n",
      "Epoch:  1150  Loss:  8.283039504820624e-30\n",
      "Epoch:  1200  Loss:  8.283039504820624e-30\n",
      "Epoch:  1250  Loss:  8.283039504820624e-30\n",
      "Epoch:  1300  Loss:  8.283039504820624e-30\n",
      "Epoch:  1350  Loss:  8.283039504820624e-30\n",
      "Epoch:  1400  Loss:  8.283039504820624e-30\n",
      "Epoch:  1450  Loss:  8.283039504820624e-30\n",
      "Epoch:  1500  Loss:  8.283039504820624e-30\n",
      "Epoch:  1550  Loss:  8.283039504820624e-30\n",
      "Epoch:  1600  Loss:  8.283039504820624e-30\n",
      "Epoch:  1650  Loss:  8.283039504820624e-30\n",
      "Epoch:  1700  Loss:  8.283039504820624e-30\n",
      "Epoch:  1750  Loss:  8.283039504820624e-30\n",
      "Epoch:  1800  Loss:  8.283039504820624e-30\n",
      "Epoch:  1850  Loss:  8.283039504820624e-30\n",
      "Epoch:  1900  Loss:  8.283039504820624e-30\n",
      "Epoch:  1950  Loss:  8.283039504820624e-30\n",
      "Epoch:  2000  Loss:  8.283039504820624e-30\n",
      "Epoch:  2050  Loss:  8.283039504820624e-30\n",
      "Epoch:  2100  Loss:  8.283039504820624e-30\n",
      "Epoch:  2150  Loss:  8.283039504820624e-30\n",
      "Epoch:  2200  Loss:  8.283039504820624e-30\n",
      "Epoch:  2250  Loss:  8.283039504820624e-30\n",
      "Epoch:  2300  Loss:  8.283039504820624e-30\n",
      "Epoch:  2350  Loss:  8.283039504820624e-30\n",
      "Epoch:  2400  Loss:  8.283039504820624e-30\n",
      "Epoch:  2450  Loss:  8.283039504820624e-30\n",
      "Epoch:  2500  Loss:  8.283039504820624e-30\n",
      "Epoch:  2550  Loss:  8.283039504820624e-30\n",
      "Epoch:  2600  Loss:  8.283039504820624e-30\n",
      "Epoch:  2650  Loss:  8.283039504820624e-30\n",
      "Epoch:  2700  Loss:  8.283039504820624e-30\n",
      "Epoch:  2750  Loss:  8.283039504820624e-30\n",
      "Epoch:  2800  Loss:  8.283039504820624e-30\n",
      "Epoch:  2850  Loss:  8.283039504820624e-30\n",
      "Epoch:  2900  Loss:  8.283039504820624e-30\n",
      "Epoch:  2950  Loss:  8.283039504820624e-30\n",
      "Epoch:  3000  Loss:  8.283039504820624e-30\n",
      "Epoch:  3050  Loss:  8.283039504820624e-30\n",
      "Epoch:  3100  Loss:  8.283039504820624e-30\n",
      "Epoch:  3150  Loss:  8.283039504820624e-30\n",
      "Epoch:  3200  Loss:  8.283039504820624e-30\n",
      "Epoch:  3250  Loss:  8.283039504820624e-30\n",
      "Epoch:  3300  Loss:  8.283039504820624e-30\n",
      "Epoch:  3350  Loss:  8.283039504820624e-30\n",
      "Epoch:  3400  Loss:  8.283039504820624e-30\n",
      "Epoch:  3450  Loss:  8.283039504820624e-30\n",
      "Epoch:  3500  Loss:  8.283039504820624e-30\n",
      "Epoch:  3550  Loss:  8.283039504820624e-30\n",
      "Epoch:  3600  Loss:  8.283039504820624e-30\n",
      "Epoch:  3650  Loss:  8.283039504820624e-30\n",
      "Epoch:  3700  Loss:  8.283039504820624e-30\n",
      "Epoch:  3750  Loss:  8.283039504820624e-30\n",
      "Epoch:  3800  Loss:  8.283039504820624e-30\n",
      "Epoch:  3850  Loss:  8.283039504820624e-30\n",
      "Epoch:  3900  Loss:  8.283039504820624e-30\n",
      "Epoch:  3950  Loss:  8.283039504820624e-30\n",
      "Epoch:  4000  Loss:  8.283039504820624e-30\n",
      "Epoch:  4050  Loss:  8.283039504820624e-30\n",
      "Epoch:  4100  Loss:  8.283039504820624e-30\n",
      "Epoch:  4150  Loss:  8.283039504820624e-30\n",
      "Epoch:  4200  Loss:  8.283039504820624e-30\n",
      "Epoch:  4250  Loss:  8.283039504820624e-30\n",
      "Epoch:  4300  Loss:  8.283039504820624e-30\n",
      "Epoch:  4350  Loss:  8.283039504820624e-30\n",
      "Epoch:  4400  Loss:  8.283039504820624e-30\n",
      "Epoch:  4450  Loss:  8.283039504820624e-30\n",
      "Epoch:  4500  Loss:  8.283039504820624e-30\n",
      "Epoch:  4550  Loss:  8.283039504820624e-30\n",
      "Epoch:  4600  Loss:  8.283039504820624e-30\n",
      "Epoch:  4650  Loss:  8.283039504820624e-30\n",
      "Epoch:  4700  Loss:  8.283039504820624e-30\n",
      "Epoch:  4750  Loss:  8.283039504820624e-30\n",
      "Epoch:  4800  Loss:  8.283039504820624e-30\n",
      "Epoch:  4850  Loss:  8.283039504820624e-30\n",
      "Epoch:  4900  Loss:  8.283039504820624e-30\n",
      "Epoch:  4950  Loss:  8.283039504820624e-30\n",
      "Epoch:  5000  Loss:  8.283039504820624e-30\n",
      "Epoch:  5050  Loss:  8.283039504820624e-30\n",
      "Epoch:  5100  Loss:  8.283039504820624e-30\n",
      "Epoch:  5150  Loss:  8.283039504820624e-30\n",
      "Epoch:  5200  Loss:  8.283039504820624e-30\n",
      "Epoch:  5250  Loss:  8.283039504820624e-30\n",
      "Epoch:  5300  Loss:  8.283039504820624e-30\n",
      "Epoch:  5350  Loss:  8.283039504820624e-30\n",
      "Epoch:  5400  Loss:  8.283039504820624e-30\n",
      "Epoch:  5450  Loss:  8.283039504820624e-30\n",
      "Epoch:  5500  Loss:  8.283039504820624e-30\n",
      "Epoch:  5550  Loss:  8.283039504820624e-30\n",
      "Epoch:  5600  Loss:  8.283039504820624e-30\n",
      "Epoch:  5650  Loss:  8.283039504820624e-30\n",
      "Epoch:  5700  Loss:  8.283039504820624e-30\n",
      "Epoch:  5750  Loss:  8.283039504820624e-30\n",
      "Epoch:  5800  Loss:  8.283039504820624e-30\n",
      "Epoch:  5850  Loss:  8.283039504820624e-30\n",
      "Epoch:  5900  Loss:  8.283039504820624e-30\n",
      "Epoch:  5950  Loss:  8.283039504820624e-30\n",
      "Epoch:  6000  Loss:  8.283039504820624e-30\n",
      "Epoch:  6050  Loss:  8.283039504820624e-30\n",
      "Epoch:  6100  Loss:  8.283039504820624e-30\n",
      "Epoch:  6150  Loss:  8.283039504820624e-30\n",
      "Epoch:  6200  Loss:  8.283039504820624e-30\n",
      "Epoch:  6250  Loss:  8.283039504820624e-30\n",
      "Epoch:  6300  Loss:  8.283039504820624e-30\n",
      "Epoch:  6350  Loss:  8.283039504820624e-30\n",
      "Epoch:  6400  Loss:  8.283039504820624e-30\n",
      "Epoch:  6450  Loss:  8.283039504820624e-30\n",
      "Epoch:  6500  Loss:  8.283039504820624e-30\n",
      "Epoch:  6550  Loss:  8.283039504820624e-30\n",
      "Epoch:  6600  Loss:  8.283039504820624e-30\n",
      "Epoch:  6650  Loss:  8.283039504820624e-30\n",
      "Epoch:  6700  Loss:  8.283039504820624e-30\n",
      "Epoch:  6750  Loss:  8.283039504820624e-30\n",
      "Epoch:  6800  Loss:  8.283039504820624e-30\n",
      "Epoch:  6850  Loss:  8.283039504820624e-30\n",
      "Epoch:  6900  Loss:  8.283039504820624e-30\n",
      "Epoch:  6950  Loss:  8.283039504820624e-30\n",
      "Epoch:  7000  Loss:  8.283039504820624e-30\n",
      "Epoch:  7050  Loss:  8.283039504820624e-30\n",
      "Epoch:  7100  Loss:  8.283039504820624e-30\n",
      "Epoch:  7150  Loss:  8.283039504820624e-30\n",
      "Epoch:  7200  Loss:  8.283039504820624e-30\n",
      "Epoch:  7250  Loss:  8.283039504820624e-30\n",
      "Epoch:  7300  Loss:  8.283039504820624e-30\n",
      "Epoch:  7350  Loss:  8.283039504820624e-30\n",
      "Epoch:  7400  Loss:  8.283039504820624e-30\n",
      "Epoch:  7450  Loss:  8.283039504820624e-30\n",
      "Epoch:  7500  Loss:  8.283039504820624e-30\n",
      "Epoch:  7550  Loss:  8.283039504820624e-30\n",
      "Epoch:  7600  Loss:  8.283039504820624e-30\n",
      "Epoch:  7650  Loss:  8.283039504820624e-30\n",
      "Epoch:  7700  Loss:  8.283039504820624e-30\n",
      "Epoch:  7750  Loss:  8.283039504820624e-30\n",
      "Epoch:  7800  Loss:  8.283039504820624e-30\n",
      "Epoch:  7850  Loss:  8.283039504820624e-30\n",
      "Epoch:  7900  Loss:  8.283039504820624e-30\n",
      "Epoch:  7950  Loss:  8.283039504820624e-30\n",
      "Epoch:  8000  Loss:  8.283039504820624e-30\n",
      "Epoch:  8050  Loss:  8.283039504820624e-30\n",
      "Epoch:  8100  Loss:  8.283039504820624e-30\n",
      "Epoch:  8150  Loss:  8.283039504820624e-30\n",
      "Epoch:  8200  Loss:  8.283039504820624e-30\n",
      "Epoch:  8250  Loss:  8.283039504820624e-30\n",
      "Epoch:  8300  Loss:  8.283039504820624e-30\n",
      "Epoch:  8350  Loss:  8.283039504820624e-30\n",
      "Epoch:  8400  Loss:  8.283039504820624e-30\n",
      "Epoch:  8450  Loss:  8.283039504820624e-30\n",
      "Epoch:  8500  Loss:  8.283039504820624e-30\n",
      "Epoch:  8550  Loss:  8.283039504820624e-30\n",
      "Epoch:  8600  Loss:  8.283039504820624e-30\n",
      "Epoch:  8650  Loss:  8.283039504820624e-30\n",
      "Epoch:  8700  Loss:  8.283039504820624e-30\n",
      "Epoch:  8750  Loss:  8.283039504820624e-30\n",
      "Epoch:  8800  Loss:  8.283039504820624e-30\n",
      "Epoch:  8850  Loss:  8.283039504820624e-30\n",
      "Epoch:  8900  Loss:  8.283039504820624e-30\n",
      "Epoch:  8950  Loss:  8.283039504820624e-30\n",
      "Epoch:  9000  Loss:  8.283039504820624e-30\n",
      "Epoch:  9050  Loss:  8.283039504820624e-30\n",
      "Epoch:  9100  Loss:  8.283039504820624e-30\n",
      "Epoch:  9150  Loss:  8.283039504820624e-30\n",
      "Epoch:  9200  Loss:  8.283039504820624e-30\n",
      "Epoch:  9250  Loss:  8.283039504820624e-30\n",
      "Epoch:  9300  Loss:  8.283039504820624e-30\n",
      "Epoch:  9350  Loss:  8.283039504820624e-30\n",
      "Epoch:  9400  Loss:  8.283039504820624e-30\n",
      "Epoch:  9450  Loss:  8.283039504820624e-30\n",
      "Epoch:  9500  Loss:  8.283039504820624e-30\n",
      "Epoch:  9550  Loss:  8.283039504820624e-30\n",
      "Epoch:  9600  Loss:  8.283039504820624e-30\n",
      "Epoch:  9650  Loss:  8.283039504820624e-30\n",
      "Epoch:  9700  Loss:  8.283039504820624e-30\n",
      "Epoch:  9750  Loss:  8.283039504820624e-30\n",
      "Epoch:  9800  Loss:  8.283039504820624e-30\n",
      "Epoch:  9850  Loss:  8.283039504820624e-30\n",
      "Epoch:  9900  Loss:  8.283039504820624e-30\n",
      "Epoch:  9950  Loss:  8.283039504820624e-30\n",
      "Epoch:  10000  Loss:  8.283039504820624e-30\n",
      "Epoch:  10050  Loss:  8.283039504820624e-30\n",
      "Epoch:  10100  Loss:  8.283039504820624e-30\n",
      "Epoch:  10150  Loss:  8.283039504820624e-30\n",
      "Epoch:  10200  Loss:  8.283039504820624e-30\n",
      "Epoch:  10250  Loss:  8.283039504820624e-30\n",
      "Epoch:  10300  Loss:  8.283039504820624e-30\n",
      "Epoch:  10350  Loss:  8.283039504820624e-30\n",
      "Epoch:  10400  Loss:  8.283039504820624e-30\n",
      "Epoch:  10450  Loss:  8.283039504820624e-30\n",
      "Epoch:  10500  Loss:  8.283039504820624e-30\n",
      "Epoch:  10550  Loss:  8.283039504820624e-30\n",
      "Epoch:  10600  Loss:  8.283039504820624e-30\n",
      "Epoch:  10650  Loss:  8.283039504820624e-30\n",
      "Epoch:  10700  Loss:  8.283039504820624e-30\n",
      "Epoch:  10750  Loss:  8.283039504820624e-30\n",
      "Epoch:  10800  Loss:  8.283039504820624e-30\n",
      "Epoch:  10850  Loss:  8.283039504820624e-30\n",
      "Epoch:  10900  Loss:  8.283039504820624e-30\n",
      "Epoch:  10950  Loss:  8.283039504820624e-30\n",
      "Epoch:  11000  Loss:  8.283039504820624e-30\n",
      "Epoch:  11050  Loss:  8.283039504820624e-30\n",
      "Epoch:  11100  Loss:  8.283039504820624e-30\n",
      "Epoch:  11150  Loss:  8.283039504820624e-30\n",
      "Epoch:  11200  Loss:  8.283039504820624e-30\n",
      "Epoch:  11250  Loss:  8.283039504820624e-30\n",
      "Epoch:  11300  Loss:  8.283039504820624e-30\n",
      "Epoch:  11350  Loss:  8.283039504820624e-30\n",
      "Epoch:  11400  Loss:  8.283039504820624e-30\n",
      "Epoch:  11450  Loss:  8.283039504820624e-30\n",
      "Epoch:  11500  Loss:  8.283039504820624e-30\n",
      "Epoch:  11550  Loss:  8.283039504820624e-30\n",
      "Epoch:  11600  Loss:  8.283039504820624e-30\n",
      "Epoch:  11650  Loss:  8.283039504820624e-30\n",
      "Epoch:  11700  Loss:  8.283039504820624e-30\n",
      "Epoch:  11750  Loss:  8.283039504820624e-30\n",
      "Epoch:  11800  Loss:  8.283039504820624e-30\n",
      "Epoch:  11850  Loss:  8.283039504820624e-30\n",
      "Epoch:  11900  Loss:  8.283039504820624e-30\n",
      "Epoch:  11950  Loss:  8.283039504820624e-30\n",
      "Epoch:  12000  Loss:  8.283039504820624e-30\n",
      "Epoch:  12050  Loss:  8.283039504820624e-30\n",
      "Epoch:  12100  Loss:  8.283039504820624e-30\n",
      "Epoch:  12150  Loss:  8.283039504820624e-30\n",
      "Epoch:  12200  Loss:  8.283039504820624e-30\n",
      "Epoch:  12250  Loss:  8.283039504820624e-30\n",
      "Epoch:  12300  Loss:  8.283039504820624e-30\n",
      "Epoch:  12350  Loss:  8.283039504820624e-30\n",
      "Epoch:  12400  Loss:  8.283039504820624e-30\n",
      "Epoch:  12450  Loss:  8.283039504820624e-30\n",
      "Epoch:  12500  Loss:  8.283039504820624e-30\n",
      "Epoch:  12550  Loss:  8.283039504820624e-30\n",
      "Epoch:  12600  Loss:  8.283039504820624e-30\n",
      "Epoch:  12650  Loss:  8.283039504820624e-30\n",
      "Epoch:  12700  Loss:  8.283039504820624e-30\n",
      "Epoch:  12750  Loss:  8.283039504820624e-30\n",
      "Epoch:  12800  Loss:  8.283039504820624e-30\n",
      "Epoch:  12850  Loss:  8.283039504820624e-30\n",
      "Epoch:  12900  Loss:  8.283039504820624e-30\n",
      "Epoch:  12950  Loss:  8.283039504820624e-30\n",
      "Epoch:  13000  Loss:  8.283039504820624e-30\n",
      "Epoch:  13050  Loss:  8.283039504820624e-30\n",
      "Epoch:  13100  Loss:  8.283039504820624e-30\n",
      "Epoch:  13150  Loss:  8.283039504820624e-30\n",
      "Epoch:  13200  Loss:  8.283039504820624e-30\n",
      "Epoch:  13250  Loss:  8.283039504820624e-30\n",
      "Epoch:  13300  Loss:  8.283039504820624e-30\n",
      "Epoch:  13350  Loss:  8.283039504820624e-30\n",
      "Epoch:  13400  Loss:  8.283039504820624e-30\n",
      "Epoch:  13450  Loss:  8.283039504820624e-30\n",
      "Epoch:  13500  Loss:  8.283039504820624e-30\n",
      "Epoch:  13550  Loss:  8.283039504820624e-30\n",
      "Epoch:  13600  Loss:  8.283039504820624e-30\n",
      "Epoch:  13650  Loss:  8.283039504820624e-30\n",
      "Epoch:  13700  Loss:  8.283039504820624e-30\n",
      "Epoch:  13750  Loss:  8.283039504820624e-30\n",
      "Epoch:  13800  Loss:  8.283039504820624e-30\n",
      "Epoch:  13850  Loss:  8.283039504820624e-30\n",
      "Epoch:  13900  Loss:  8.283039504820624e-30\n",
      "Epoch:  13950  Loss:  8.283039504820624e-30\n",
      "Epoch:  14000  Loss:  8.283039504820624e-30\n",
      "Epoch:  14050  Loss:  8.283039504820624e-30\n",
      "Epoch:  14100  Loss:  8.283039504820624e-30\n",
      "Epoch:  14150  Loss:  8.283039504820624e-30\n",
      "Epoch:  14200  Loss:  8.283039504820624e-30\n",
      "Epoch:  14250  Loss:  8.283039504820624e-30\n",
      "Epoch:  14300  Loss:  8.283039504820624e-30\n",
      "Epoch:  14350  Loss:  8.283039504820624e-30\n",
      "Epoch:  14400  Loss:  8.283039504820624e-30\n",
      "Epoch:  14450  Loss:  8.283039504820624e-30\n",
      "Epoch:  14500  Loss:  8.283039504820624e-30\n",
      "Epoch:  14550  Loss:  8.283039504820624e-30\n",
      "Epoch:  14600  Loss:  8.283039504820624e-30\n",
      "Epoch:  14650  Loss:  8.283039504820624e-30\n",
      "Epoch:  14700  Loss:  8.283039504820624e-30\n",
      "Epoch:  14750  Loss:  8.283039504820624e-30\n",
      "Epoch:  14800  Loss:  8.283039504820624e-30\n",
      "Epoch:  14850  Loss:  8.283039504820624e-30\n",
      "Epoch:  14900  Loss:  8.283039504820624e-30\n",
      "Epoch:  14950  Loss:  8.283039504820624e-30\n"
     ]
    }
   ],
   "source": [
    "x = np.linspace(0,10,n).reshape(n,1)\n",
    "y = modelo(x)\n",
    "y_hat = real_function(x)\n",
    "\n",
    "Epochs = 15000\n",
    "lr = 0.001\n",
    "loss_array = np.zeros(Epochs)\n",
    "\n",
    "for i in range(Epochs):\n",
    "    g = gradiente(x,w1,b1)\n",
    "    dw1 = g[0]\n",
    "    db1 = g[1]\n",
    "    \n",
    "    w1 = w1 - lr*dw1\n",
    "    b1 = b1 - lr*db1\n",
    "    \n",
    "    loss_array[i] = loss(x)\n",
    "    if i%50 == 0:\n",
    "        print(\"Epoch: \" , i, \" Loss: \", loss_array[i])\n",
    "    \n",
    "    \n",
    "    \n",
    "    \n",
    "    \n",
    "    \n",
    "\n"
   ]
  },
  {
   "cell_type": "code",
   "execution_count": 14,
   "metadata": {},
   "outputs": [
    {
     "data": {
      "text/plain": [
       "[<matplotlib.lines.Line2D at 0x2db2d4002b0>]"
      ]
     },
     "execution_count": 14,
     "metadata": {},
     "output_type": "execute_result"
    },
    {
     "data": {
      "image/png": "[encoded data removed]",
      "text/plain": [
       "<Figure size 432x288 with 1 Axes>"
      ]
     },
     "metadata": {
      "needs_background": "light"
     },
     "output_type": "display_data"
    }
   ],
   "source": [
    "#Plot answer\n",
    "plt.plot(loss_array)"
   ]
  },
  {
   "cell_type": "code",
   "execution_count": 15,
   "metadata": {},
   "outputs": [
    {
     "data": {
      "image/png": "[encoded data removed]",
      "text/plain": [
       "<Figure size 720x360 with 1 Axes>"
      ]
     },
     "metadata": {
      "needs_background": "light"
     },
     "output_type": "display_data"
    }
   ],
   "source": [
    "plt.figure(figsize=(10,5))\n",
    "x = np.linspace(0,10,n).reshape(-1,1)\n",
    "plt.plot(x,modelo(x), label = 'Model')\n",
    "plt.plot(x,3*x+2, '--r',label = 'Analytical')\n",
    "plt.legend()\n",
    "plt.show()"
   ]
  },
  {
   "cell_type": "code",
   "execution_count": null,
   "metadata": {},
   "outputs": [],
   "source": []
  }
 ],
 "metadata": {
  "kernelspec": {
   "display_name": "Python 3",
   "language": "python",
   "name": "python3"
  },
  "language_info": {
   "codemirror_mode": {
    "name": "ipython",
    "version": 3
   },
   "file_extension": ".py",
   "mimetype": "text/x-python",
   "name": "python",
   "nbconvert_exporter": "python",
   "pygments_lexer": "ipython3",
   "version": "3.10.11"
  }
 },
 "nbformat": 4,
 "nbformat_minor": 2
}
