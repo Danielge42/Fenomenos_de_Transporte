{
 "cells": [
  {
   "cell_type": "code",
   "execution_count": 27,
   "metadata": {},
   "outputs": [],
   "source": [
    "import numpy as np\n",
    "import tensorflow as tf\n",
    "import matplotlib.pyplot as plt"
   ]
  },
  {
   "cell_type": "code",
   "execution_count": 62,
   "metadata": {},
   "outputs": [],
   "source": [
    "\n",
    "import numpy as np\n",
    "import tensorflow as tf\n",
    "import matplotlib.pyplot as plt\n",
    "\n",
    "n = 32\n",
    "lr = 0.001"
   ]
  },
  {
   "cell_type": "code",
   "execution_count": 63,
   "metadata": {},
   "outputs": [],
   "source": [
    "w1 = np.random.rand(n,n) * np.sqrt(2/n)\n",
    "b1 = np.random.rand(n,1)\n",
    "w2 = np.random.rand(n,n) * np.sqrt(2/n)"
   ]
  },
  {
   "cell_type": "code",
   "execution_count": 64,
   "metadata": {},
   "outputs": [],
   "source": [
    "def modelo(x):\n",
    "    z1 = w1 @ x + b1\n",
    "    a1 = np.sin(z1)\n",
    "    z2 = w2 @ a1\n",
    "    \n",
    "    return z2 "
   ]
  },
  {
   "cell_type": "code",
   "execution_count": 65,
   "metadata": {},
   "outputs": [],
   "source": [
    "#Constante para probar el modelo\n",
    "t = np.linspace(0,1,n).reshape(n,1)\n"
   ]
  },
  {
   "cell_type": "code",
   "execution_count": 66,
   "metadata": {},
   "outputs": [],
   "source": [
    "#Función que queremos interpolar\n",
    "def true_f(x):\n",
    "    return np.cos(2*np.pi*x**0.5) + np.exp(-x**2)"
   ]
  },
  {
   "cell_type": "code",
   "execution_count": 67,
   "metadata": {},
   "outputs": [],
   "source": [
    "#Funcion de pérdida y su derivada\n",
    "def loss(x):\n",
    "    return np.mean( np.square( ((modelo(x) )  - (true_f(x)) )))\n",
    "\n",
    "def loss_derivative(x):\n",
    "    return 2/n *( ( (modelo(x)) - (true_f(x))) )"
   ]
  },
  {
   "cell_type": "code",
   "execution_count": 68,
   "metadata": {},
   "outputs": [],
   "source": [
    "def gradiente(x,w1,w2,b1,i):\n",
    "    z1 = w1 @ x + b1\n",
    "    a1 = np.sin(z1)\n",
    "    z2 = w2 @ a1\n",
    "    \n",
    "\n",
    "    dw2 = loss_derivative(x) @ a1.T\n",
    "    dw1 = (w2.T @ loss_derivative(x)) * (np.cos(z1)) @ x.T \n",
    "    db1 = (w2.T @ loss_derivative(x)) * (np.cos(z1))\n",
    "        \n",
    "    return dw1, db1, dw2"
   ]
  },
  {
   "cell_type": "code",
   "execution_count": 69,
   "metadata": {},
   "outputs": [
    {
     "name": "stdout",
     "output_type": "stream",
     "text": [
      "Epoch:  0  Loss:  1.7841097823815386\n",
      "Epoch:  50  Loss:  0.977668651329365\n",
      "Epoch:  100  Loss:  0.6183816687243737\n",
      "Epoch:  150  Loss:  0.4604831119208057\n",
      "Epoch:  200  Loss:  0.38745642016428805\n",
      "Epoch:  250  Loss:  0.349299666592011\n",
      "Epoch:  300  Loss:  0.32549299666955783\n",
      "Epoch:  350  Loss:  0.30777869622108034\n",
      "Epoch:  400  Loss:  0.29285142286398125\n",
      "Epoch:  450  Loss:  0.27937830081793125\n",
      "Epoch:  500  Loss:  0.2668079028633038\n",
      "Epoch:  550  Loss:  0.2548990404225869\n"
     ]
    },
    {
     "name": "stdout",
     "output_type": "stream",
     "text": [
      "Epoch:  600  Loss:  0.24353522570354014\n",
      "Epoch:  650  Loss:  0.23265164370643127\n",
      "Epoch:  700  Loss:  0.2222062507656308\n",
      "Epoch:  750  Loss:  0.21216815345829698\n",
      "Epoch:  800  Loss:  0.20251276549856653\n",
      "Epoch:  850  Loss:  0.1932196412609687\n",
      "Epoch:  900  Loss:  0.18427138425282594\n",
      "Epoch:  950  Loss:  0.17565300342073506\n",
      "Epoch:  1000  Loss:  0.16735146998178335\n",
      "Epoch:  1050  Loss:  0.159355375660425\n",
      "Epoch:  1100  Loss:  0.15165465124817046\n",
      "Epoch:  1150  Loss:  0.1442403273234773\n",
      "Epoch:  1200  Loss:  0.13710432817632667\n",
      "Epoch:  1250  Loss:  0.13023929380210802\n",
      "Epoch:  1300  Loss:  0.12363842650745321\n",
      "Epoch:  1350  Loss:  0.11729535947664214\n",
      "Epoch:  1400  Loss:  0.11120404508303817\n",
      "Epoch:  1450  Loss:  0.10535866099793094\n",
      "Epoch:  1500  Loss:  0.09975353233379311\n",
      "Epoch:  1550  Loss:  0.09438306819812728\n",
      "Epoch:  1600  Loss:  0.08924171114645305\n",
      "Epoch:  1650  Loss:  0.08432389811891289\n",
      "Epoch:  1700  Loss:  0.07962403153083723\n",
      "Epoch:  1750  Loss:  0.07513645926757974\n",
      "Epoch:  1800  Loss:  0.07085546241081239\n",
      "Epoch:  1850  Loss:  0.06677524959905778\n",
      "Epoch:  1900  Loss:  0.06288995700060174\n",
      "Epoch:  1950  Loss:  0.05919365295256988\n",
      "Epoch:  2000  Loss:  0.055680346395937885\n",
      "Epoch:  2050  Loss:  0.05234399831233574\n",
      "Epoch:  2100  Loss:  0.04917853544424513\n",
      "Epoch:  2150  Loss:  0.04617786565498701\n",
      "Epoch:  2200  Loss:  0.043335894358107314\n",
      "Epoch:  2250  Loss:  0.04064654151672281\n",
      "Epoch:  2300  Loss:  0.03810375878147337\n",
      "Epoch:  2350  Loss:  0.03570154640036441\n",
      "Epoch:  2400  Loss:  0.03343396959450815\n",
      "Epoch:  2450  Loss:  0.03129517415019965\n",
      "Epoch:  2500  Loss:  0.029279401029622593\n",
      "Epoch:  2550  Loss:  0.027380999849595494\n",
      "Epoch:  2600  Loss:  0.02559444112007276\n",
      "Epoch:  2650  Loss:  0.02391432717162286\n",
      "Epoch:  2700  Loss:  0.02233540173391786\n",
      "Epoch:  2750  Loss:  0.02085255815555304\n",
      "Epoch:  2800  Loss:  0.01946084627949536\n",
      "Epoch:  2850  Loss:  0.01815547800840466\n",
      "Epoch:  2900  Loss:  0.016931831610282055\n",
      "Epoch:  2950  Loss:  0.015785454827699014\n",
      "Epoch:  3000  Loss:  0.014712066863579641\n",
      "Epoch:  3050  Loss:  0.013707559323486914\n",
      "Epoch:  3100  Loss:  0.012767996198929828\n",
      "Epoch:  3150  Loss:  0.01188961297868621\n",
      "Epoch:  3200  Loss:  0.011068814975828987\n",
      "Epoch:  3250  Loss:  0.010302174957339087\n",
      "Epoch:  3300  Loss:  0.009586430161151956\n",
      "Epoch:  3350  Loss:  0.008918478782455911\n",
      "Epoch:  3400  Loss:  0.008295376007260014\n",
      "Epoch:  3450  Loss:  0.007714329666867355\n",
      "Epoch:  3500  Loss:  0.007172695582099812\n",
      "Epoch:  3550  Loss:  0.006667972661066366\n",
      "Epoch:  3600  Loss:  0.006197797809077949\n",
      "Epoch:  3650  Loss:  0.005759940704090771\n",
      "Epoch:  3700  Loss:  0.005352298485896852\n",
      "Epoch:  3750  Loss:  0.0049728904022442915\n",
      "Epoch:  3800  Loss:  0.0046198524502176555\n",
      "Epoch:  3850  Loss:  0.004291432046583327\n",
      "Epoch:  3900  Loss:  0.0039859827564369035\n",
      "Epoch:  3950  Loss:  0.003701959105401805\n",
      "Epoch:  4000  Loss:  0.003437911496832277\n",
      "Epoch:  4050  Loss:  0.003192481251976496\n",
      "Epoch:  4100  Loss:  0.002964395787856877\n",
      "Epoch:  4150  Loss:  0.0027524639447188077\n",
      "Epoch:  4200  Loss:  0.0025555714722790696\n",
      "Epoch:  4250  Loss:  0.0023726766816589556\n",
      "Epoch:  4300  Loss:  0.0022028062678007727\n",
      "Epoch:  4350  Loss:  0.00204505130532526\n",
      "Epoch:  4400  Loss:  0.001898563419175985\n",
      "Epoch:  4450  Loss:  0.0017625511299967866\n",
      "Epoch:  4500  Loss:  0.0016362763729848959\n",
      "Epoch:  4550  Loss:  0.0015190511879376385\n",
      "Epoch:  4600  Loss:  0.00141023457734879\n",
      "Epoch:  4650  Loss:  0.0013092295286962282\n",
      "Epoch:  4700  Loss:  0.0012154801964800442\n",
      "Epoch:  4750  Loss:  0.0011284692391063022\n",
      "Epoch:  4800  Loss:  0.0010477153053522583\n",
      "Epoch:  4850  Loss:  0.0009727706648820657\n",
      "Epoch:  4900  Loss:  0.0009032189770962469\n",
      "Epoch:  4950  Loss:  0.0008386731924832098\n",
      "Epoch:  5000  Loss:  0.0007787735805866897\n",
      "Epoch:  5050  Loss:  0.0007231858787013551\n",
      "Epoch:  5100  Loss:  0.0006715995554510293\n",
      "Epoch:  5150  Loss:  0.0006237261834837936\n",
      "Epoch:  5200  Loss:  0.0005792979156288535\n",
      "Epoch:  5250  Loss:  0.0005380660589960537\n",
      "Epoch:  5300  Loss:  0.0004997997416550058\n",
      "Epoch:  5350  Loss:  0.00046428466670305217\n",
      "Epoch:  5400  Loss:  0.0004313219487153771\n",
      "Epoch:  5450  Loss:  0.00040072702776345633\n",
      "Epoch:  5500  Loss:  0.0003723286563866855\n",
      "Epoch:  5550  Loss:  0.00034596795510397185\n",
      "Epoch:  5600  Loss:  0.0003214975322552307\n",
      "Epoch:  5650  Loss:  0.0002987806641652264\n",
      "Epoch:  5700  Loss:  0.0002776905318225845\n",
      "Epoch:  5750  Loss:  0.0002581095104638962\n",
      "Epoch:  5800  Loss:  0.00023992850864542627\n",
      "Epoch:  5850  Loss:  0.00022304635357244359\n",
      "Epoch:  5900  Loss:  0.0002073692196378088\n",
      "Epoch:  5950  Loss:  0.00019281009729679702\n",
      "Epoch:  6000  Loss:  0.0001792882995737291\n",
      "Epoch:  6050  Loss:  0.0001667290036577525\n",
      "Epoch:  6100  Loss:  0.00015506282519977212\n",
      "Epoch:  6150  Loss:  0.00014422542307004934\n",
      "Epoch:  6200  Loss:  0.00013415713247646695\n",
      "Epoch:  6250  Loss:  0.0001248026244767786\n",
      "Epoch:  6300  Loss:  0.00011611059004468035\n",
      "Epoch:  6350  Loss:  0.00010803344696910092\n",
      "Epoch:  6400  Loss:  0.00010052706797923056\n",
      "Epoch:  6450  Loss:  9.355052859439895e-05\n",
      "Epoch:  6500  Loss:  8.706587329841615e-05\n",
      "Epoch:  6550  Loss:  8.103789873247533e-05\n",
      "Epoch:  6600  Loss:  7.543395268954587e-05\n",
      "Epoch:  6650  Loss:  7.022374777657708e-05\n",
      "Epoch:  6700  Loss:  6.537918868901999e-05\n",
      "Epoch:  6750  Loss:  6.08742121153642e-05\n",
      "Epoch:  6800  Loss:  5.668463835802954e-05\n",
      "Epoch:  6850  Loss:  5.2788033820972116e-05\n",
      "Epoch:  6900  Loss:  4.9163583574358464e-05\n",
      "Epoch:  6950  Loss:  4.579197326253068e-05\n",
      "Epoch:  7000  Loss:  4.2655279673742136e-05\n",
      "Epoch:  7050  Loss:  3.973686933880746e-05\n",
      "Epoch:  7100  Loss:  3.702130457117531e-05\n",
      "Epoch:  7150  Loss:  3.449425640321397e-05\n",
      "Epoch:  7200  Loss:  3.2142423912825705e-05\n",
      "Epoch:  7250  Loss:  2.995345947115794e-05\n",
      "Epoch:  7300  Loss:  2.791589947618602e-05\n",
      "Epoch:  7350  Loss:  2.6019100168644317e-05\n",
      "Epoch:  7400  Loss:  2.4253178156201227e-05\n",
      "Epoch:  7450  Loss:  2.2608955299098433e-05\n",
      "Epoch:  7500  Loss:  2.1077907635877933e-05\n",
      "Epoch:  7550  Loss:  1.965211805138485e-05\n",
      "Epoch:  7600  Loss:  1.832423241110997e-05\n",
      "Epoch:  7650  Loss:  1.708741890623898e-05\n",
      "Epoch:  7700  Loss:  1.5935330372601623e-05\n",
      "Epoch:  7750  Loss:  1.4862069364170731e-05\n",
      "Epoch:  7800  Loss:  1.3862155777965174e-05\n",
      "Epoch:  7850  Loss:  1.2930496842207038e-05\n",
      "Epoch:  7900  Loss:  1.2062359293497673e-05\n",
      "Epoch:  7950  Loss:  1.1253343581675164e-05\n",
      "Epoch:  8000  Loss:  1.049935995294419e-05\n",
      "Epoch:  8050  Loss:  9.796606272946567e-06\n",
      "Epoch:  8100  Loss:  9.141547461681216e-06\n",
      "Epoch:  8150  Loss:  8.53089642168005e-06\n",
      "Epoch:  8200  Loss:  7.961596349625603e-06\n",
      "Epoch:  8250  Loss:  7.430804329742641e-06\n",
      "Epoch:  8300  Loss:  6.935876114833317e-06\n",
      "Epoch:  8350  Loss:  6.4743520077899026e-06\n",
      "Epoch:  8400  Loss:  6.043943762888851e-06\n",
      "Epoch:  8450  Loss:  5.642522432143818e-06\n",
      "Epoch:  8500  Loss:  5.268107087526637e-06\n",
      "Epoch:  8550  Loss:  4.918854354989781e-06\n",
      "Epoch:  8600  Loss:  4.593048700968056e-06\n",
      "Epoch:  8650  Loss:  4.289093416413974e-06\n",
      "Epoch:  8700  Loss:  4.0055022474974805e-06\n",
      "Epoch:  8750  Loss:  3.740891625843388e-06\n",
      "Epoch:  8800  Loss:  3.4939734546784873e-06\n",
      "Epoch:  8850  Loss:  3.2635484104521e-06\n",
      "Epoch:  8900  Loss:  3.0484997225077083e-06\n",
      "Epoch:  8950  Loss:  2.8477873961100297e-06\n",
      "Epoch:  9000  Loss:  2.6604428467050374e-06\n",
      "Epoch:  9050  Loss:  2.4855639156472747e-06\n",
      "Epoch:  9100  Loss:  2.3223102398113608e-06\n",
      "Epoch:  9150  Loss:  2.169898949537383e-06\n",
      "Epoch:  9200  Loss:  2.0276006712263093e-06\n",
      "Epoch:  9250  Loss:  1.8947358126445287e-06\n",
      "Epoch:  9300  Loss:  1.7706711105928397e-06\n",
      "Epoch:  9350  Loss:  1.654816422092538e-06\n",
      "Epoch:  9400  Loss:  1.5466217416116166e-06\n",
      "Epoch:  9450  Loss:  1.4455744281279822e-06\n",
      "Epoch:  9500  Loss:  1.351196627015266e-06\n",
      "Epoch:  9550  Loss:  1.2630428728198816e-06\n",
      "Epoch:  9600  Loss:  1.1806978600170862e-06\n",
      "Epoch:  9650  Loss:  1.1037743697696485e-06\n",
      "Epoch:  9700  Loss:  1.031911341580279e-06\n",
      "Epoch:  9750  Loss:  9.647720795358471e-07\n",
      "Epoch:  9800  Loss:  9.020425835852737e-07\n",
      "Epoch:  9850  Loss:  8.43429996982162e-07\n",
      "Epoch:  9900  Loss:  7.886611616678058e-07\n",
      "Epoch:  9950  Loss:  7.374812739572522e-07\n"
     ]
    }
   ],
   "source": [
    "##Entrenamiento\n",
    "Epochs = 10000\n",
    "loss_array = np.zeros(Epochs)\n",
    "x = np.linspace(0,1,n).reshape(n,1)\n",
    "for i in range(Epochs):\n",
    "    \n",
    "    g = gradiente(x,w1,w2,b1,i)\n",
    "    dw1 = g[0]\n",
    "    db1 = g[1]\n",
    "    dw2 = g[2]\n",
    "       \n",
    "    w1 -= lr*dw1\n",
    "    w2 -= lr*dw2\n",
    "    b1 -= lr*db1\n",
    "    \n",
    "    loss_array[i] = loss(x).mean()\n",
    "    if i%50 == 0:\n",
    "        print(\"Epoch: \" , i, \" Loss: \", loss_array[i])"
   ]
  },
  {
   "cell_type": "code",
   "execution_count": 70,
   "metadata": {},
   "outputs": [
    {
     "data": {
      "text/plain": [
       "[<matplotlib.lines.Line2D at 0x1fdcdb8d960>]"
      ]
     },
     "execution_count": 70,
     "metadata": {},
     "output_type": "execute_result"
    },
    {
     "data": {
      "image/png": "[encoded data removed]",
      "text/plain": [
       "<Figure size 432x288 with 1 Axes>"
      ]
     },
     "metadata": {
      "needs_background": "light"
     },
     "output_type": "display_data"
    }
   ],
   "source": [
    "#Graficar Perdida\n",
    "plt.plot(loss_array)"
   ]
  },
  {
   "cell_type": "code",
   "execution_count": 71,
   "metadata": {},
   "outputs": [
    {
     "name": "stdout",
     "output_type": "stream",
     "text": [
      "Error medio: 0.607961018325557\n"
     ]
    },
    {
     "data": {
      "image/png": "[encoded data removed]",
      "text/plain": [
       "<Figure size 720x360 with 1 Axes>"
      ]
     },
     "metadata": {
      "needs_background": "light"
     },
     "output_type": "display_data"
    }
   ],
   "source": [
    "plt.figure(figsize=(10,5))\n",
    "\n",
    "x = np.linspace(0,1,n).reshape(-1,1)\n",
    "print(\"Error medio:\", np.mean(np.abs( (modelo(x) - true_f(x))/true_f(x)) )*100 ) \n",
    "plt.plot(x,modelo(x) , label = 'Model')\n",
    "plt.plot(x,true_f(x), '--r',label = 'Analytical')\n",
    "plt.legend()\n",
    "plt.show()"
   ]
  },
  {
   "cell_type": "code",
   "execution_count": null,
   "metadata": {},
   "outputs": [],
   "source": []
  }
 ],
 "metadata": {
  "kernelspec": {
   "display_name": "Python 3",
   "language": "python",
   "name": "python3"
  },
  "language_info": {
   "codemirror_mode": {
    "name": "ipython",
    "version": 3
   },
   "file_extension": ".py",
   "mimetype": "text/x-python",
   "name": "python",
   "nbconvert_exporter": "python",
   "pygments_lexer": "ipython3",
   "version": "3.10.11"
  }
 },
 "nbformat": 4,
 "nbformat_minor": 2
}
