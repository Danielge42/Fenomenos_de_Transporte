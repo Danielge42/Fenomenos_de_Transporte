{
 "cells": [
  {
   "cell_type": "code",
   "execution_count": 20,
   "metadata": {},
   "outputs": [],
   "source": [
    "import numpy as np\n",
    "import tensorflow as tf\n",
    "import matplotlib.pyplot as plt\n"
   ]
  },
  {
   "cell_type": "code",
   "execution_count": 21,
   "metadata": {},
   "outputs": [],
   "source": [
    "n = 100\n",
    "m = 100\n",
    "batch_size = 32\n"
   ]
  },
  {
   "cell_type": "code",
   "execution_count": 22,
   "metadata": {},
   "outputs": [],
   "source": [
    "w1 = tf.Variable(tf.initializers.GlorotNormal()((n, 1)), name='w1')\n",
    "b1 = tf.Variable(tf.initializers.GlorotNormal()((n, 1)), name='b1')\n",
    "w2 = tf.Variable(tf.initializers.GlorotNormal()((n, n)), name='w2')\n",
    "b2 = tf.Variable(tf.initializers.GlorotNormal()((n, 1)), name='b2')\n",
    "w3 = tf.Variable(tf.initializers.GlorotNormal()((1, n)), name='w3')\n"
   ]
  },
  {
   "cell_type": "code",
   "execution_count": 23,
   "metadata": {},
   "outputs": [],
   "source": [
    "test_constant = tf.constant(np.random.rand(1, m), dtype = tf.float32)\n"
   ]
  },
  {
   "cell_type": "code",
   "execution_count": 24,
   "metadata": {},
   "outputs": [],
   "source": [
    "alpha = tf.constant(10.0)\n",
    "dx = tf.constant(0.001)\n",
    "lr = tf.constant(0.0001)"
   ]
  },
  {
   "cell_type": "code",
   "execution_count": 25,
   "metadata": {},
   "outputs": [],
   "source": [
    "def f(x):\n",
    "    output = w1 @ x + b1\n",
    "    output = tf.sin(output)\n",
    "    output = w2 @ output + b2\n",
    "    output = tf.sin(output)\n",
    "    output =  w3 @output \n",
    "    return output"
   ]
  },
  {
   "cell_type": "code",
   "execution_count": 26,
   "metadata": {},
   "outputs": [
    {
     "name": "stdout",
     "output_type": "stream",
     "text": [
      "(1, 100)\n"
     ]
    }
   ],
   "source": [
    "print(f(test_constant).shape)"
   ]
  },
  {
   "cell_type": "code",
   "execution_count": 27,
   "metadata": {},
   "outputs": [],
   "source": [
    "def d_dx(x):\n",
    "    with tf.GradientTape() as tape:\n",
    "        tape.watch(x)\n",
    "        ddx = tape.gradient(f(x), x)\n",
    "    return ddx"
   ]
  },
  {
   "cell_type": "code",
   "execution_count": 28,
   "metadata": {},
   "outputs": [
    {
     "name": "stdout",
     "output_type": "stream",
     "text": [
      "(1, 100)\n"
     ]
    }
   ],
   "source": [
    "a = d_dx(test_constant)\n",
    "print(a.shape)"
   ]
  },
  {
   "cell_type": "code",
   "execution_count": 29,
   "metadata": {},
   "outputs": [],
   "source": [
    "def d2_dx2(x):\n",
    "    with tf.GradientTape() as tape:\n",
    "        tape.watch(x)\n",
    "        d2dx2 = tape.gradient(d_dx(x), x)\n",
    "    return d2dx2"
   ]
  },
  {
   "cell_type": "code",
   "execution_count": 30,
   "metadata": {},
   "outputs": [
    {
     "name": "stdout",
     "output_type": "stream",
     "text": [
      "(1, 100)\n"
     ]
    }
   ],
   "source": [
    "print(d2_dx2(test_constant).shape)"
   ]
  },
  {
   "cell_type": "code",
   "execution_count": 31,
   "metadata": {},
   "outputs": [],
   "source": [
    "# ODE loss function\n",
    "def ode_loss(x):\n",
    "    diff_loss = tf.reduce_mean(tf.square(d2_dx2(x) +  f(x)))\n",
    "    ic1 = tf.reduce_mean(tf.square(d_dx(tf.zeros((1, m), dtype=tf.float32))))\n",
    "    ic2 = tf.reduce_mean(tf.square(f(tf.zeros((1, m), dtype=tf.float32)) - tf.constant(1.0)))\n",
    "    return diff_loss + ic1 + ic2"
   ]
  },
  {
   "cell_type": "code",
   "execution_count": 32,
   "metadata": {},
   "outputs": [
    {
     "name": "stdout",
     "output_type": "stream",
     "text": [
      "tf.Tensor(1.4761415, shape=(), dtype=float32)\n"
     ]
    }
   ],
   "source": [
    "x_batch = tf.constant(np.random.rand(1, m)*5, dtype=tf.float32)\n",
    "loss = ode_loss(x_batch)\n",
    "print(loss)"
   ]
  },
  {
   "cell_type": "code",
   "execution_count": 36,
   "metadata": {},
   "outputs": [
    {
     "name": "stdout",
     "output_type": "stream",
     "text": [
      "Epoch 0, Loss: 0.03162376955151558\n",
      "Epoch 100, Loss: 0.011418942362070084\n",
      "Epoch 200, Loss: 0.008862468414008617\n",
      "Epoch 300, Loss: 0.006864643190056086\n",
      "Epoch 400, Loss: 0.006186440587043762\n"
     ]
    }
   ],
   "source": [
    "# Training loop\n",
    "loss_history = []\n",
    "epochs = 500\n",
    "optimizer = tf.optimizers.Adam(learning_rate=lr)\n",
    "\n",
    "for epoch in range(epochs):\n",
    "    # Generate a batch of random inputs\n",
    "    x_batch = tf.constant(np.random.rand(1, m)*5, dtype=tf.float32)\n",
    "    \n",
    "    # Compute loss and gradients\n",
    "    with tf.GradientTape() as tape:\n",
    "        loss = ode_loss(x_batch)\n",
    "        grads = tape.gradient(loss, [w1, b1, w2, b2, w3])\n",
    "    \n",
    "        # Apply gradients\n",
    "        optimizer.apply_gradients(zip(grads, [w1, b1, w2, b2, w3]))\n",
    "    \n",
    "    # Record loss\n",
    "    loss_history.append(loss.numpy())\n",
    "    \n",
    "    # Print progress\n",
    "    if epoch % 100 == 0:\n",
    "        print(f\"Epoch {epoch}, Loss: {loss.numpy()}\")"
   ]
  },
  {
   "cell_type": "code",
   "execution_count": 37,
   "metadata": {},
   "outputs": [
    {
     "data": {
      "text/plain": [
       "[<matplotlib.lines.Line2D at 0x1929b0d99c0>]"
      ]
     },
     "execution_count": 37,
     "metadata": {},
     "output_type": "execute_result"
    },
    {
     "data": {
      "image/png": "[encoded data removed]",
      "text/plain": [
       "<Figure size 432x288 with 1 Axes>"
      ]
     },
     "metadata": {
      "needs_background": "light"
     },
     "output_type": "display_data"
    }
   ],
   "source": [
    "#Plot loss\n",
    "plt.plot(loss_history)"
   ]
  },
  {
   "cell_type": "code",
   "execution_count": 38,
   "metadata": {},
   "outputs": [
    {
     "data": {
      "text/plain": [
       "<matplotlib.legend.Legend at 0x1929b148730>"
      ]
     },
     "execution_count": 38,
     "metadata": {},
     "output_type": "execute_result"
    },
    {
     "data": {
      "image/png": "[encoded data removed]",
      "text/plain": [
       "<Figure size 432x288 with 1 Axes>"
      ]
     },
     "metadata": {
      "needs_background": "light"
     },
     "output_type": "display_data"
    }
   ],
   "source": [
    "#Plot model\n",
    "x = np.linspace(0, 5, m).reshape(1,m)\n",
    "x = tf.constant(x, dtype = tf.float32)\n",
    "x.shape\n",
    "plt.plot(x.numpy().flatten(), f(x).numpy().flatten(), label = \"Model\")\n",
    "plt.plot(x.numpy().flatten(), np.cos(x*1).flatten(), label = \"True\")\n",
    "plt.legend()\n"
   ]
  },
  {
   "cell_type": "code",
   "execution_count": null,
   "metadata": {},
   "outputs": [],
   "source": []
  }
 ],
 "metadata": {
  "kernelspec": {
   "display_name": "Python 3",
   "language": "python",
   "name": "python3"
  },
  "language_info": {
   "codemirror_mode": {
    "name": "ipython",
    "version": 3
   },
   "file_extension": ".py",
   "mimetype": "text/x-python",
   "name": "python",
   "nbconvert_exporter": "python",
   "pygments_lexer": "ipython3",
   "version": "3.10.11"
  }
 },
 "nbformat": 4,
 "nbformat_minor": 2
}
